{
 "cells": [
  {
   "cell_type": "markdown",
   "id": "c51f7481",
   "metadata": {},
   "source": [
    "The below notebook is intended to translate transactions from Sleeper's API into a readable message that can then be passed to a messenging service. \n",
    "\n",
    "First we import the necessary modules:\n",
    "1. requests (to make the HTTP requests to the API)\n",
    "2. json (to best read/write data to files)\n",
    "3. logging (to log what we do! very important to track your work!)"
   ]
  },
  {
   "cell_type": "code",
   "execution_count": 1,
   "id": "353cfd64",
   "metadata": {},
   "outputs": [],
   "source": [
    "import requests, json, logging\n",
    "\n",
    "logger = logging.getLogger(__name__)"
   ]
  },
  {
   "cell_type": "markdown",
   "id": "8e204c03",
   "metadata": {},
   "source": [
    "The next piece we are setting our league's ID number. This is my league's ID number that we will use throughout this process. When using this for other league's, you can substitute yours in. "
   ]
  },
  {
   "cell_type": "code",
   "execution_count": 2,
   "id": "e2d4367c",
   "metadata": {},
   "outputs": [],
   "source": [
    "league_id = '1100536352157859840'"
   ]
  },
  {
   "cell_type": "markdown",
   "id": "63515d5d",
   "metadata": {},
   "source": [
    "The first function created here is to get and store the list of players that Sleeper has. We will reference this later."
   ]
  },
  {
   "cell_type": "code",
   "execution_count": 3,
   "id": "cc7d03dc",
   "metadata": {},
   "outputs": [],
   "source": [
    "def get_player_list():\n",
    "    return requests.get(\"https://api.sleeper.app/v1/players/nfl\").json()"
   ]
  },
  {
   "cell_type": "markdown",
   "id": "7ab4a78c",
   "metadata": {},
   "source": [
    "The next function here is to save our list of players locally, wherever this script is run, for accessing later. "
   ]
  },
  {
   "cell_type": "code",
   "execution_count": 4,
   "id": "f38ba561",
   "metadata": {},
   "outputs": [],
   "source": [
    "def save_player_list(player_list, indent=2):\n",
    "    with open('players.txt', 'w') as f:\n",
    "        json.dump(player_list, f, indent=indent)"
   ]
  },
  {
   "cell_type": "markdown",
   "id": "ff5c4915",
   "metadata": {},
   "source": [
    "This function is to get the teams/users in the league."
   ]
  },
  {
   "cell_type": "code",
   "execution_count": 5,
   "id": "482654b6",
   "metadata": {},
   "outputs": [],
   "source": [
    "def get_teams(leauge_id):\n",
    "    return requests.get(f\"https://api.sleeper.app/v1/league/{league_id}/users\").json()"
   ]
  },
  {
   "cell_type": "markdown",
   "id": "e517d4e7",
   "metadata": {},
   "source": [
    "This function is to get the rosters in the league."
   ]
  },
  {
   "cell_type": "code",
   "execution_count": 6,
   "id": "53e64528",
   "metadata": {},
   "outputs": [],
   "source": [
    "def get_rosters(league_id):\n",
    "    return requests.get(f\"https://api.sleeper.app/v1/league/{league_id}/rosters\").json()"
   ]
  },
  {
   "cell_type": "markdown",
   "id": "2c4fcd03",
   "metadata": {},
   "source": [
    "Now, we set up a few classes that allow us to do our work. These two classes give us the ability to run methods on individual results from what is returned from the HTTP request. For now, they just give us ease of use. "
   ]
  },
  {
   "cell_type": "code",
   "execution_count": 7,
   "id": "aa6aa586",
   "metadata": {},
   "outputs": [],
   "source": [
    "class Team:\n",
    "    def __init__(self, team_dict):\n",
    "        for key, value in team_dict.items():\n",
    "            setattr(self, key, value)\n",
    "        \n",
    "class Roster:\n",
    "    def __init__(self, roster_dict):\n",
    "        for key, value in roster_dict.items():\n",
    "            setattr(self, key, value)"
   ]
  },
  {
   "cell_type": "markdown",
   "id": "b8460944",
   "metadata": {},
   "source": [
    "The below class is created for the league. As mentioned before, we are setting these up to run methods on the results. Since a league request returns the league itself (rather than a list of teams/rosters), we want to add those in! There are 3 methods. \n",
    "1. Add Team List - get us all the teams in the league, transforms them into classes, stores them in a list. \n",
    "2. Add Roster List - does the same as the team list. \n",
    "3. Construct Teams - Sorts through the teams and rosters to give us the key pieces of information in a nice, easy-to-navigate dictionary. The owner of the team, the name of the team, and the roster ID number for the team. "
   ]
  },
  {
   "cell_type": "code",
   "execution_count": 8,
   "id": "4ae7b44e",
   "metadata": {},
   "outputs": [],
   "source": [
    "class League:\n",
    "    def __init__(self, league_id):\n",
    "        self.league_id = league_id\n",
    "        league_dict = requests.get(f\"https://api.sleeper.app/v1/league/{self.league_id}\").json()\n",
    "        for key, value in league_dict.items():\n",
    "            setattr(self, key, value)\n",
    "        self._add_team_list()\n",
    "        self._add_roster_list()\n",
    "        self._construct_teams()\n",
    "            \n",
    "    def _add_team_list(self):\n",
    "        self.team_list = []\n",
    "        for team_dict in get_teams(self.league_id):\n",
    "            team_data = Team(team_dict)\n",
    "            self.team_list.append(team_data)\n",
    "        return self\n",
    "    \n",
    "    def _add_roster_list(self):\n",
    "        self.roster_list = []\n",
    "        for roster_dict in get_rosters(self.league_id):\n",
    "            self.roster_list.append(Roster(roster_dict))\n",
    "        return self\n",
    "    \n",
    "    def _construct_teams(self):\n",
    "        self.teams = []\n",
    "        for team in self.team_list:\n",
    "            try:\n",
    "                self.teams.append({'owner_id' : team.user_id,\n",
    "                    'team_name' : team.metadata['team_name'],\n",
    "                    'roster_id' : [x.roster_id for x in self.roster_list if x.owner_id == team.user_id][0]})\n",
    "            except:\n",
    "                self.teams.append({'owner_id' : team.user_id,\n",
    "                    'team_name' : 'Team ' + team.display_name,\n",
    "                    'roster_id' : [x.roster_id for x in self.roster_list if x.owner_id == team.user_id][0]})"
   ]
  },
  {
   "cell_type": "markdown",
   "id": "9edce228",
   "metadata": {},
   "source": [
    "This function gives us the ability to get the transactions in a given week. Note that 'round' here is meant to be the week. "
   ]
  },
  {
   "cell_type": "code",
   "execution_count": 9,
   "id": "9f6dfd1a",
   "metadata": {},
   "outputs": [],
   "source": [
    "def get_transactions(league_id, round):\n",
    "    return requests.get(f\"https://api.sleeper.app/v1/league/{league_id}/transactions/{round}\").json()"
   ]
  },
  {
   "cell_type": "markdown",
   "id": "835d55d6",
   "metadata": {},
   "source": [
    "This function is an ease of use function to see what transactions we could come across if we pull all of them. "
   ]
  },
  {
   "cell_type": "code",
   "execution_count": 10,
   "id": "fefc2e7f",
   "metadata": {},
   "outputs": [],
   "source": [
    "def get_all_transaction_types(transactions):\n",
    "    t_list = []\n",
    "    [t_list.append(x['type']) for x in transactions if x['type'] not in t_list]\n",
    "    return t_list"
   ]
  },
  {
   "cell_type": "markdown",
   "id": "93ce5687",
   "metadata": {},
   "source": [
    "This is the example showing what we currently have as transactions. "
   ]
  },
  {
   "cell_type": "code",
   "execution_count": 11,
   "id": "5cf76361",
   "metadata": {},
   "outputs": [
    {
     "name": "stdout",
     "output_type": "stream",
     "text": [
      "['free_agent', 'commissioner', 'trade']\n"
     ]
    }
   ],
   "source": [
    "t = get_all_transaction_types(get_transactions(league_id, 1))\n",
    "print(t)"
   ]
  },
  {
   "cell_type": "markdown",
   "id": "0fe5338d",
   "metadata": {},
   "source": [
    "Now, here we are setting up the Transaction class that will allow us to create our readable messages. There are a few things going on. \n",
    "\n",
    "First, we determine what rosters are in play. We already have the roster ID included in any result from an HTTP request, but that's not at all helpful in a readable message. We have to find the team name who performed the action, and this method does that. \n",
    "\n",
    "Second, we determine what players are in play as well. We do not need to specify what is happening to each player yet, that we do later. For now, we just need to be able to put names to ID numbers. \n",
    "\n",
    "Third, is our string functionality that gives us our message! \n",
    "\n",
    "Fourth, is a method to log the transaction locally. The method does not return self, but a boolean, so you know if the transaction has already been logged. This will be useful when we make repeated calls to the transactions endpoint of the API. "
   ]
  },
  {
   "cell_type": "code",
   "execution_count": 12,
   "id": "0425b9d5",
   "metadata": {},
   "outputs": [],
   "source": [
    "class Transaction:\n",
    "    def __init__(self, transaction_dict: dict, league: League):\n",
    "        self.league = league\n",
    "        for key, value in transaction_dict.items():\n",
    "            setattr(self, key, value)\n",
    "        self._determine_rosters()\n",
    "        self._determine_players()\n",
    "            \n",
    "    def _determine_rosters(self):\n",
    "        self.teams = {}\n",
    "        for roster in self.roster_ids:\n",
    "            self.teams[roster] = [x['team_name'] for x in self.league.teams if x['roster_id'] == roster][0]\n",
    "        return self\n",
    "    \n",
    "    def _determine_players(self):\n",
    "        self.players = {}\n",
    "        self._load_player_list()\n",
    "        try:\n",
    "            for add in self.adds:\n",
    "                self.players[add] = self.player_dict[add]['full_name']\n",
    "        except:\n",
    "            logger.info('No adds detected.')\n",
    "        try:\n",
    "            for drop in self.drops:\n",
    "                self.players[drop] = self.player_dict[drop]['full_name']\n",
    "        except:\n",
    "            logger.info('No drops detected.')\n",
    "        self._empty_player_list()\n",
    "            \n",
    "    def _load_player_list(self):\n",
    "        with open('players.txt', 'r') as p:\n",
    "            self.player_dict = json.load(p)\n",
    "        return self\n",
    "    \n",
    "    def _empty_player_list(self):\n",
    "        self.player_dict = None\n",
    "        \n",
    "    def __str__(self):\n",
    "        return_string_list = ['Type: ' + self.type]\n",
    "        for roster in self.roster_ids:\n",
    "            return_string_list.append('Team: ' + str(self.teams[roster]))\n",
    "            try:\n",
    "                for drop in self.drops:\n",
    "                    return_string_list.append('Dropped Players: ' + self.players[drop])\n",
    "            except:\n",
    "                logger.info('No drops detected.')\n",
    "            try:\n",
    "                for add in self.adds:\n",
    "                    return_string_list.append('Added Players: ' + self.players[add])\n",
    "            except:\n",
    "                logger.info('No adds detected.')\n",
    "        return '\\n'.join(return_string_list)\n",
    "    \n",
    "    def log_transaction(self):\n",
    "        with open('transactions.txt', 'r') as f:\n",
    "            t = json.load(f)\n",
    "            if self.transaction_id in t:\n",
    "                logger.info('Transaction already recorded.')\n",
    "                return False\n",
    "            else:\n",
    "                t.append(self.transaction_id)\n",
    "                logger.info('Transaction successfully logged.')\n",
    "                return True"
   ]
  },
  {
   "cell_type": "markdown",
   "id": "8c0037fd",
   "metadata": {},
   "source": [
    "Here, we quickly set ourselves up to see the output of our work. "
   ]
  },
  {
   "cell_type": "code",
   "execution_count": 13,
   "id": "e9733a01",
   "metadata": {},
   "outputs": [],
   "source": [
    "t = get_transactions(league_id, 1)\n",
    "league = League(league_id)"
   ]
  },
  {
   "cell_type": "markdown",
   "id": "1a3e0f65",
   "metadata": {},
   "source": [
    "This lets us view some examples of our work. "
   ]
  },
  {
   "cell_type": "code",
   "execution_count": 14,
   "id": "3c4b7b2f",
   "metadata": {},
   "outputs": [
    {
     "name": "stdout",
     "output_type": "stream",
     "text": [
      "Type: free_agent\n",
      "Team: The Adams Family\n",
      "Dropped Players: Ainias Smith\n",
      "Added Players: Dillon Johnson\n",
      "Type: commissioner\n",
      "Team: Team SleeperShane\n",
      "Added Players: Kendall Milton\n",
      "Type: trade\n",
      "Team: The Adams Family\n",
      "Team: Big Data Big Nerds\n"
     ]
    }
   ],
   "source": [
    "fa = True\n",
    "comm = True\n",
    "trade = True\n",
    "\n",
    "for key, transaction in enumerate(t):\n",
    "    x = str(Transaction(transaction, league))\n",
    "    if transaction['type'] == 'free_agent':\n",
    "        if fa:\n",
    "            print(x)\n",
    "            fa = False\n",
    "    elif transaction['type'] == 'commissioner':\n",
    "        if comm:\n",
    "            print(x)\n",
    "            comm = False\n",
    "    elif transaction['type'] == 'trade':\n",
    "        if trade:\n",
    "            print(x)\n",
    "            trade = False"
   ]
  }
 ],
 "metadata": {
  "kernelspec": {
   "display_name": "Python 3 (ipykernel)",
   "language": "python",
   "name": "python3"
  },
  "language_info": {
   "codemirror_mode": {
    "name": "ipython",
    "version": 3
   },
   "file_extension": ".py",
   "mimetype": "text/x-python",
   "name": "python",
   "nbconvert_exporter": "python",
   "pygments_lexer": "ipython3",
   "version": "3.9.7"
  }
 },
 "nbformat": 4,
 "nbformat_minor": 5
}
